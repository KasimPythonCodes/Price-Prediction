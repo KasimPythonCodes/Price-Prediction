{
 "cells": [
  {
   "cell_type": "code",
   "execution_count": 1,
   "id": "334ae3df",
   "metadata": {},
   "outputs": [],
   "source": [
    "import pandas as pd\n",
    "import numpy as np\n",
    "import geopy"
   ]
  },
  {
   "cell_type": "code",
   "execution_count": 2,
   "id": "1a5e9124",
   "metadata": {},
   "outputs": [],
   "source": [
    "df=pd.read_excel('C://Users/Kasim/Desktop/Aug_2022_orders_Data/Aug 2022_orders__Details.xlsx',)\n",
    "dfp=pd.read_excel('C://Users/Kasim/Desktop/Aug_2022_orders_Data/Pickup_data_lat_&_long.xlsx',)\n",
    "dfd=pd.read_excel('C://Users/Kasim/Desktop/Aug_2022_orders_Data/Drop_data_lat_&_long.xlsx',)\n"
   ]
  },
  {
   "cell_type": "code",
   "execution_count": 3,
   "id": "0de580e1",
   "metadata": {},
   "outputs": [
    {
     "data": {
      "text/plain": [
       "Index(['VEHICLETYPES', 'DATE', 'FARE', 'PICKUPLOCATION', 'DROPLOCATION'], dtype='object')"
      ]
     },
     "execution_count": 3,
     "metadata": {},
     "output_type": "execute_result"
    }
   ],
   "source": [
    "df.columns"
   ]
  },
  {
   "cell_type": "code",
   "execution_count": 4,
   "id": "272a23e0",
   "metadata": {},
   "outputs": [
    {
     "data": {
      "text/plain": [
       "Index(['PICKUPLOCATION', 'Pickuplatitude', 'Pickuplongitude'], dtype='object')"
      ]
     },
     "execution_count": 4,
     "metadata": {},
     "output_type": "execute_result"
    }
   ],
   "source": [
    "dfp.columns"
   ]
  },
  {
   "cell_type": "code",
   "execution_count": 5,
   "id": "2fb6879c",
   "metadata": {},
   "outputs": [
    {
     "data": {
      "text/plain": [
       "Index(['DROPLOCATION', 'droplatitude', 'droplongitude'], dtype='object')"
      ]
     },
     "execution_count": 5,
     "metadata": {},
     "output_type": "execute_result"
    }
   ],
   "source": [
    "dfd.columns"
   ]
  },
  {
   "cell_type": "code",
   "execution_count": 6,
   "id": "258cf837",
   "metadata": {},
   "outputs": [
    {
     "data": {
      "text/plain": [
       "Timestamp('2022-08-02 00:00:00')"
      ]
     },
     "execution_count": 6,
     "metadata": {},
     "output_type": "execute_result"
    }
   ],
   "source": [
    "df['DATE'].min()"
   ]
  },
  {
   "cell_type": "code",
   "execution_count": 7,
   "id": "57a37b65",
   "metadata": {},
   "outputs": [
    {
     "data": {
      "text/plain": [
       "Timestamp('2022-08-31 00:00:00')"
      ]
     },
     "execution_count": 7,
     "metadata": {},
     "output_type": "execute_result"
    }
   ],
   "source": [
    "df['DATE'].max()"
   ]
  },
  {
   "cell_type": "code",
   "execution_count": 8,
   "id": "e0453749",
   "metadata": {},
   "outputs": [
    {
     "data": {
      "text/plain": [
       "(1291, 5)"
      ]
     },
     "execution_count": 8,
     "metadata": {},
     "output_type": "execute_result"
    }
   ],
   "source": [
    "df.drop_duplicates(subset=['PICKUPLOCATION' , 'DROPLOCATION']).shape"
   ]
  },
  {
   "cell_type": "code",
   "execution_count": 9,
   "id": "a67b24e5",
   "metadata": {},
   "outputs": [
    {
     "data": {
      "text/plain": [
       "PICKUPLOCATION      0\n",
       "Pickuplatitude     13\n",
       "Pickuplongitude    13\n",
       "dtype: int64"
      ]
     },
     "execution_count": 9,
     "metadata": {},
     "output_type": "execute_result"
    }
   ],
   "source": [
    "dfp.isnull().sum()"
   ]
  },
  {
   "cell_type": "code",
   "execution_count": 10,
   "id": "3d7f3b17",
   "metadata": {},
   "outputs": [
    {
     "data": {
      "text/plain": [
       "DROPLOCATION      0\n",
       "droplatitude     19\n",
       "droplongitude    19\n",
       "dtype: int64"
      ]
     },
     "execution_count": 10,
     "metadata": {},
     "output_type": "execute_result"
    }
   ],
   "source": [
    "dfd.isnull().sum()"
   ]
  },
  {
   "cell_type": "code",
   "execution_count": 11,
   "id": "9761042e",
   "metadata": {},
   "outputs": [],
   "source": [
    "df1_Merge=pd.merge(df , dfp , how='inner', on=['PICKUPLOCATION'])"
   ]
  },
  {
   "cell_type": "code",
   "execution_count": 12,
   "id": "e94a20fe",
   "metadata": {},
   "outputs": [],
   "source": [
    "df1_Merge=pd.merge(df1_Merge , dfd , how='inner', on=['DROPLOCATION'])"
   ]
  },
  {
   "cell_type": "code",
   "execution_count": 13,
   "id": "6ffb783a",
   "metadata": {},
   "outputs": [],
   "source": [
    "df1_Merge['Month']  = df1_Merge['DATE'].apply(lambda x :x.month)\n",
    "df1_Merge['Year']  = df1_Merge['DATE'].apply(lambda x :x.year)\n"
   ]
  },
  {
   "cell_type": "code",
   "execution_count": 14,
   "id": "a7698002",
   "metadata": {},
   "outputs": [
    {
     "data": {
      "text/plain": [
       "Index(['VEHICLETYPES', 'DATE', 'FARE', 'PICKUPLOCATION', 'DROPLOCATION',\n",
       "       'Pickuplatitude', 'Pickuplongitude', 'droplatitude', 'droplongitude',\n",
       "       'Month', 'Year'],\n",
       "      dtype='object')"
      ]
     },
     "execution_count": 14,
     "metadata": {},
     "output_type": "execute_result"
    }
   ],
   "source": [
    "df1_Merge.columns"
   ]
  },
  {
   "cell_type": "code",
   "execution_count": 15,
   "id": "bff25489",
   "metadata": {},
   "outputs": [],
   "source": [
    "df2_Merge = df1_Merge.dropna()"
   ]
  },
  {
   "cell_type": "code",
   "execution_count": 16,
   "id": "ce17abe9",
   "metadata": {},
   "outputs": [],
   "source": [
    "df3_Merge= df2_Merge.drop_duplicates()"
   ]
  },
  {
   "cell_type": "code",
   "execution_count": 17,
   "id": "7dfb212b",
   "metadata": {},
   "outputs": [
    {
     "data": {
      "text/plain": [
       "(1285, 11)"
      ]
     },
     "execution_count": 17,
     "metadata": {},
     "output_type": "execute_result"
    }
   ],
   "source": [
    "df3_Merge.shape"
   ]
  },
  {
   "cell_type": "code",
   "execution_count": 18,
   "id": "4d38914d",
   "metadata": {},
   "outputs": [
    {
     "name": "stderr",
     "output_type": "stream",
     "text": [
      "C:\\Users\\Kasim\\AppData\\Local\\Temp\\ipykernel_11260\\2736383191.py:1: SettingWithCopyWarning: \n",
      "A value is trying to be set on a copy of a slice from a DataFrame.\n",
      "Try using .loc[row_indexer,col_indexer] = value instead\n",
      "\n",
      "See the caveats in the documentation: https://pandas.pydata.org/pandas-docs/stable/user_guide/indexing.html#returning-a-view-versus-a-copy\n",
      "  df3_Merge['FARE_With_Percentage_Change'] = df3_Merge.sort_values('DATE').groupby(['VEHICLETYPES', 'Month']).FARE.pct_change()\n"
     ]
    }
   ],
   "source": [
    "df3_Merge['FARE_With_Percentage_Change'] = df3_Merge.sort_values('DATE').groupby(['VEHICLETYPES', 'Month']).FARE.pct_change()\n"
   ]
  },
  {
   "cell_type": "code",
   "execution_count": 19,
   "id": "df8a07c4",
   "metadata": {},
   "outputs": [
    {
     "data": {
      "text/plain": [
       "(12,)"
      ]
     },
     "execution_count": 19,
     "metadata": {},
     "output_type": "execute_result"
    }
   ],
   "source": [
    "df3_Merge.isnull().sum().shape"
   ]
  },
  {
   "cell_type": "code",
   "execution_count": 20,
   "id": "5df40aa8",
   "metadata": {},
   "outputs": [],
   "source": [
    "df4_Merge = df3_Merge.dropna(subset='FARE_With_Percentage_Change')"
   ]
  },
  {
   "cell_type": "code",
   "execution_count": 21,
   "id": "c3f5213b",
   "metadata": {},
   "outputs": [
    {
     "data": {
      "text/plain": [
       "(12,)"
      ]
     },
     "execution_count": 21,
     "metadata": {},
     "output_type": "execute_result"
    }
   ],
   "source": [
    "df4_Merge.isnull().sum().shape"
   ]
  },
  {
   "cell_type": "code",
   "execution_count": 22,
   "id": "17197362",
   "metadata": {},
   "outputs": [
    {
     "data": {
      "text/plain": [
       "(5, 12)"
      ]
     },
     "execution_count": 22,
     "metadata": {},
     "output_type": "execute_result"
    }
   ],
   "source": [
    "df4_Merge.head().shape"
   ]
  },
  {
   "cell_type": "code",
   "execution_count": 23,
   "id": "e045a99d",
   "metadata": {},
   "outputs": [
    {
     "name": "stderr",
     "output_type": "stream",
     "text": [
      "C:\\Users\\Kasim\\AppData\\Local\\Temp\\ipykernel_11260\\982814397.py:11: SettingWithCopyWarning: \n",
      "A value is trying to be set on a copy of a slice from a DataFrame.\n",
      "Try using .loc[row_indexer,col_indexer] = value instead\n",
      "\n",
      "See the caveats in the documentation: https://pandas.pydata.org/pandas-docs/stable/user_guide/indexing.html#returning-a-view-versus-a-copy\n",
      "  df4_Merge['Distance'] =  Distance(\n"
     ]
    }
   ],
   "source": [
    "from pyproj import Geod\n",
    "\n",
    "wgs84_geod = Geod(ellps='WGS84') #Distance will be measured on this ellipsoid - more accurate than a spherical method\n",
    "\n",
    "#Get distance between pairs of lat-lon points\n",
    "def Distance(lat1,lon1,lat2,lon2):\n",
    "    az12,az21,dist = wgs84_geod.inv(lon1,lat1,lon2,lat2) #Yes, this order is correct\n",
    "    return dist\n",
    "\n",
    "#Add/update a column to the data frame with the distances (in metres)_\n",
    "df4_Merge['Distance'] =  Distance(\n",
    "                                  df4_Merge['Pickuplatitude'].tolist(),\n",
    "                                  df4_Merge['Pickuplongitude'].tolist(),\n",
    "                                  df4_Merge ['droplatitude'].tolist(),\n",
    "                                  df4_Merge['droplongitude'].tolist()\n",
    "                              )"
   ]
  },
  {
   "cell_type": "code",
   "execution_count": 24,
   "id": "2765c35b",
   "metadata": {},
   "outputs": [
    {
     "name": "stderr",
     "output_type": "stream",
     "text": [
      "C:\\Users\\Kasim\\AppData\\Local\\Temp\\ipykernel_11260\\4244002082.py:1: SettingWithCopyWarning: \n",
      "A value is trying to be set on a copy of a slice from a DataFrame.\n",
      "Try using .loc[row_indexer,col_indexer] = value instead\n",
      "\n",
      "See the caveats in the documentation: https://pandas.pydata.org/pandas-docs/stable/user_guide/indexing.html#returning-a-view-versus-a-copy\n",
      "  df4_Merge['Distance'] =df4_Merge['Distance']/1000\n"
     ]
    }
   ],
   "source": [
    "df4_Merge['Distance'] =df4_Merge['Distance']/1000"
   ]
  },
  {
   "cell_type": "code",
   "execution_count": 25,
   "id": "3125cc07",
   "metadata": {},
   "outputs": [
    {
     "data": {
      "text/plain": [
       "(5, 13)"
      ]
     },
     "execution_count": 25,
     "metadata": {},
     "output_type": "execute_result"
    }
   ],
   "source": [
    "df4_Merge.head().shape"
   ]
  },
  {
   "cell_type": "code",
   "execution_count": 26,
   "id": "36087613",
   "metadata": {},
   "outputs": [],
   "source": [
    "# df4_Merge.to_excel('Test.xlsx')"
   ]
  },
  {
   "cell_type": "code",
   "execution_count": 27,
   "id": "9b86dda0",
   "metadata": {},
   "outputs": [
    {
     "data": {
      "text/plain": [
       "235.27250832160408"
      ]
     },
     "execution_count": 27,
     "metadata": {},
     "output_type": "execute_result"
    }
   ],
   "source": [
    "df4_Merge['Distance'].max()"
   ]
  },
  {
   "cell_type": "code",
   "execution_count": 28,
   "id": "5844d9be",
   "metadata": {},
   "outputs": [
    {
     "name": "stderr",
     "output_type": "stream",
     "text": [
      "C:\\Users\\Kasim\\AppData\\Local\\Temp\\ipykernel_11260\\2335870546.py:1: SettingWithCopyWarning: \n",
      "A value is trying to be set on a copy of a slice from a DataFrame.\n",
      "Try using .loc[row_indexer,col_indexer] = value instead\n",
      "\n",
      "See the caveats in the documentation: https://pandas.pydata.org/pandas-docs/stable/user_guide/indexing.html#returning-a-view-versus-a-copy\n",
      "  df4_Merge['Distance_Percentage_Change'] =df4_Merge.sort_values('DATE').groupby(['Month' , 'Year']).Distance.pct_change()\n"
     ]
    }
   ],
   "source": [
    "df4_Merge['Distance_Percentage_Change'] =df4_Merge.sort_values('DATE').groupby(['Month' , 'Year']).Distance.pct_change()\n"
   ]
  },
  {
   "cell_type": "code",
   "execution_count": 29,
   "id": "d3891122",
   "metadata": {},
   "outputs": [],
   "source": [
    "df5_Merge = df4_Merge.dropna()"
   ]
  },
  {
   "cell_type": "code",
   "execution_count": 30,
   "id": "79fdd239",
   "metadata": {},
   "outputs": [
    {
     "data": {
      "text/plain": [
       "(5, 14)"
      ]
     },
     "execution_count": 30,
     "metadata": {},
     "output_type": "execute_result"
    }
   ],
   "source": [
    "df5_Merge.head().shape"
   ]
  },
  {
   "cell_type": "code",
   "execution_count": 31,
   "id": "7ff56be8",
   "metadata": {},
   "outputs": [],
   "source": [
    "X= df5_Merge[['VEHICLETYPES',  'FARE_With_Percentage_Change','Distance','Distance_Percentage_Change']] # indipendent Feature \n",
    "\n",
    "y=df5_Merge[['FARE']] # dependent Feature "
   ]
  },
  {
   "cell_type": "code",
   "execution_count": 32,
   "id": "d59fcffd",
   "metadata": {},
   "outputs": [],
   "source": [
    "from sklearn import tree\n",
    "from sklearn.tree import DecisionTreeClassifier\n",
    "from sklearn.preprocessing import OneHotEncoder ,LabelEncoder"
   ]
  },
  {
   "cell_type": "code",
   "execution_count": 33,
   "id": "be162b7f",
   "metadata": {},
   "outputs": [
    {
     "name": "stderr",
     "output_type": "stream",
     "text": [
      "C:\\Users\\Kasim\\AppData\\Local\\Programs\\Python\\Python310\\lib\\site-packages\\sklearn\\preprocessing\\_label.py:115: DataConversionWarning: A column-vector y was passed when a 1d array was expected. Please change the shape of y to (n_samples, ), for example using ravel().\n",
      "  y = column_or_1d(y, warn=True)\n",
      "C:\\Users\\Kasim\\AppData\\Local\\Temp\\ipykernel_11260\\4253588849.py:5: SettingWithCopyWarning: \n",
      "A value is trying to be set on a copy of a slice from a DataFrame.\n",
      "Try using .loc[row_indexer,col_indexer] = value instead\n",
      "\n",
      "See the caveats in the documentation: https://pandas.pydata.org/pandas-docs/stable/user_guide/indexing.html#returning-a-view-versus-a-copy\n",
      "  X['VEHICLETYPES']= VEHICLETYPES_label_encoder.fit_transform(X[['VEHICLETYPES']])\n"
     ]
    }
   ],
   "source": [
    "from sklearn import preprocessing\n",
    "VEHICLETYPES_label_encoder = LabelEncoder()\n",
    "# ohe = OneHotEncoder(drop='first' , sparse=False ,dtype='int64')\n",
    "\n",
    "X['VEHICLETYPES']= VEHICLETYPES_label_encoder.fit_transform(X[['VEHICLETYPES']])\n",
    "\n",
    "# X_train_new = ohe.fit_transform(X[['VEHICLETYPES']])\n"
   ]
  },
  {
   "cell_type": "code",
   "execution_count": 34,
   "id": "94a30afe",
   "metadata": {},
   "outputs": [
    {
     "name": "stderr",
     "output_type": "stream",
     "text": [
      "C:\\Users\\Kasim\\AppData\\Local\\Temp\\ipykernel_11260\\1577599.py:1: SettingWithCopyWarning: \n",
      "A value is trying to be set on a copy of a slice from a DataFrame.\n",
      "Try using .loc[row_indexer,col_indexer] = value instead\n",
      "\n",
      "See the caveats in the documentation: https://pandas.pydata.org/pandas-docs/stable/user_guide/indexing.html#returning-a-view-versus-a-copy\n",
      "  X['Distance'] =X['Distance'].apply(\"int64\")\n",
      "C:\\Users\\Kasim\\AppData\\Local\\Temp\\ipykernel_11260\\1577599.py:2: SettingWithCopyWarning: \n",
      "A value is trying to be set on a copy of a slice from a DataFrame.\n",
      "Try using .loc[row_indexer,col_indexer] = value instead\n",
      "\n",
      "See the caveats in the documentation: https://pandas.pydata.org/pandas-docs/stable/user_guide/indexing.html#returning-a-view-versus-a-copy\n",
      "  X['Distance_Percentage_Change'] =X['Distance_Percentage_Change'].apply(\"int64\")\n",
      "C:\\Users\\Kasim\\AppData\\Local\\Temp\\ipykernel_11260\\1577599.py:3: SettingWithCopyWarning: \n",
      "A value is trying to be set on a copy of a slice from a DataFrame.\n",
      "Try using .loc[row_indexer,col_indexer] = value instead\n",
      "\n",
      "See the caveats in the documentation: https://pandas.pydata.org/pandas-docs/stable/user_guide/indexing.html#returning-a-view-versus-a-copy\n",
      "  X['VEHICLETYPES'] =X['VEHICLETYPES'].apply(\"int64\")\n",
      "C:\\Users\\Kasim\\AppData\\Local\\Temp\\ipykernel_11260\\1577599.py:4: SettingWithCopyWarning: \n",
      "A value is trying to be set on a copy of a slice from a DataFrame.\n",
      "Try using .loc[row_indexer,col_indexer] = value instead\n",
      "\n",
      "See the caveats in the documentation: https://pandas.pydata.org/pandas-docs/stable/user_guide/indexing.html#returning-a-view-versus-a-copy\n",
      "  X['FARE_With_Percentage_Change'] =X['FARE_With_Percentage_Change'].apply(\"int64\")\n",
      "C:\\Users\\Kasim\\AppData\\Local\\Temp\\ipykernel_11260\\1577599.py:5: SettingWithCopyWarning: \n",
      "A value is trying to be set on a copy of a slice from a DataFrame.\n",
      "Try using .loc[row_indexer,col_indexer] = value instead\n",
      "\n",
      "See the caveats in the documentation: https://pandas.pydata.org/pandas-docs/stable/user_guide/indexing.html#returning-a-view-versus-a-copy\n",
      "  y['FARE'] =y['FARE'].apply(\"int64\")\n"
     ]
    }
   ],
   "source": [
    "X['Distance'] =X['Distance'].apply(\"int64\")\n",
    "X['Distance_Percentage_Change'] =X['Distance_Percentage_Change'].apply(\"int64\")\n",
    "X['VEHICLETYPES'] =X['VEHICLETYPES'].apply(\"int64\")\n",
    "X['FARE_With_Percentage_Change'] =X['FARE_With_Percentage_Change'].apply(\"int64\")\n",
    "y['FARE'] =y['FARE'].apply(\"int64\")"
   ]
  },
  {
   "cell_type": "code",
   "execution_count": 35,
   "id": "b2366076",
   "metadata": {},
   "outputs": [
    {
     "data": {
      "text/plain": [
       "VEHICLETYPES                   int64\n",
       "FARE_With_Percentage_Change    int64\n",
       "Distance                       int64\n",
       "Distance_Percentage_Change     int64\n",
       "dtype: object"
      ]
     },
     "execution_count": 35,
     "metadata": {},
     "output_type": "execute_result"
    }
   ],
   "source": [
    "# convert_dict = {\n",
    "# 'Distance_Percentage_Change':'int64',\n",
    "# 'Pickuplatitude':'int64',\n",
    "# 'Pickuplongitude':'int64',\n",
    "# 'droplatitude':'int64',\n",
    "# 'droplongitude':'int64',\n",
    "# 'FARE_With_Percentage_Change':'int64',\n",
    "# 'Distance':'int64',\n",
    "#                 }\n",
    "# X= X.astype(convert_dict ,errors='ignore')\n",
    "X.dtypes"
   ]
  },
  {
   "cell_type": "markdown",
   "id": "6ef4b971",
   "metadata": {},
   "source": [
    "# SPLIT DATA TRAIN AND TEST"
   ]
  },
  {
   "cell_type": "code",
   "execution_count": 36,
   "id": "5fca2def",
   "metadata": {},
   "outputs": [],
   "source": [
    "from sklearn.model_selection import train_test_split"
   ]
  },
  {
   "cell_type": "code",
   "execution_count": 37,
   "id": "1ead70ad",
   "metadata": {},
   "outputs": [],
   "source": [
    "X_train ,X_test,y_train ,y_test = train_test_split(X ,y , test_size=0.2 , random_state=0)\n"
   ]
  },
  {
   "cell_type": "markdown",
   "id": "64e42a9a",
   "metadata": {},
   "source": [
    "# FIRST  MODEL  DecisionTreeClassifier"
   ]
  },
  {
   "cell_type": "code",
   "execution_count": 38,
   "id": "c03d2107",
   "metadata": {},
   "outputs": [],
   "source": [
    "from sklearn import tree\n",
    "from sklearn.tree import DecisionTreeRegressor\n",
    "from sklearn.metrics import accuracy_score\n",
    "from sklearn.metrics import r2_score , confusion_matrix , mean_absolute_error ,mean_squared_error \n",
    "import matplotlib.pyplot as plt"
   ]
  },
  {
   "cell_type": "code",
   "execution_count": 39,
   "id": "e18e79d0",
   "metadata": {},
   "outputs": [
    {
     "name": "stdout",
     "output_type": "stream",
     "text": [
      "DecisionTreeRegressor(random_state=0)\n"
     ]
    }
   ],
   "source": [
    "dtree = DecisionTreeRegressor(random_state=0)\n",
    "print(dtree.fit(X_train , y_train))"
   ]
  },
  {
   "cell_type": "code",
   "execution_count": 92,
   "id": "21e41b35",
   "metadata": {},
   "outputs": [],
   "source": [
    " y_predeci = dtree.predict(X_test)"
   ]
  },
  {
   "cell_type": "code",
   "execution_count": 93,
   "id": "cd4a3151",
   "metadata": {},
   "outputs": [
    {
     "name": "stdout",
     "output_type": "stream",
     "text": [
      "MAE 271.0168066891387\n"
     ]
    }
   ],
   "source": [
    "print(\"MAE\" ,mean_absolute_error(y_test ,y_predeci))"
   ]
  },
  {
   "cell_type": "code",
   "execution_count": 94,
   "id": "b283f49b",
   "metadata": {},
   "outputs": [
    {
     "name": "stdout",
     "output_type": "stream",
     "text": [
      "MSE 538741.3901395211\n"
     ]
    }
   ],
   "source": [
    "print(\"MSE\" ,mean_squared_error(y_test ,y_predeci) )"
   ]
  },
  {
   "cell_type": "code",
   "execution_count": 95,
   "id": "01648441",
   "metadata": {},
   "outputs": [
    {
     "name": "stdout",
     "output_type": "stream",
     "text": [
      "RMSE 733.990047711494\n"
     ]
    }
   ],
   "source": [
    "print(\"RMSE\" ,np.sqrt(mean_squared_error(y_test ,y_predeci)))"
   ]
  },
  {
   "cell_type": "code",
   "execution_count": 96,
   "id": "9259ff1e",
   "metadata": {},
   "outputs": [
    {
     "data": {
      "text/plain": [
       "0.48360248114220483"
      ]
     },
     "execution_count": 96,
     "metadata": {},
     "output_type": "execute_result"
    }
   ],
   "source": [
    "r2=r2_score(y_test, y_predeci)\n",
    "r2"
   ]
  },
  {
   "cell_type": "code",
   "execution_count": 97,
   "id": "6caf5e0c",
   "metadata": {},
   "outputs": [
    {
     "data": {
      "text/plain": [
       "(253, 4)"
      ]
     },
     "execution_count": 97,
     "metadata": {},
     "output_type": "execute_result"
    }
   ],
   "source": [
    "# adjcent r2 score\n",
    "X_test.shape"
   ]
  },
  {
   "cell_type": "code",
   "execution_count": 98,
   "id": "e7ce6ab0",
   "metadata": {},
   "outputs": [
    {
     "data": {
      "text/plain": [
       "0.47527348890256294"
      ]
     },
     "execution_count": 98,
     "metadata": {},
     "output_type": "execute_result"
    }
   ],
   "source": [
    "#adjecent root square error\n",
    "1-((1-r2)*(253 - 1)/(253 -1 - 4 ))"
   ]
  },
  {
   "cell_type": "code",
   "execution_count": null,
   "id": "281f206f",
   "metadata": {},
   "outputs": [],
   "source": []
  },
  {
   "cell_type": "markdown",
   "id": "049d9ded",
   "metadata": {},
   "source": [
    "# SECOND  MODEL  RandomForestClassifier"
   ]
  },
  {
   "cell_type": "code",
   "execution_count": 101,
   "id": "7d0b75d3",
   "metadata": {},
   "outputs": [],
   "source": [
    "from sklearn.ensemble import RandomForestClassifier\n",
    "from sklearn.metrics import r2_score"
   ]
  },
  {
   "cell_type": "code",
   "execution_count": 117,
   "id": "6c6886f2",
   "metadata": {},
   "outputs": [
    {
     "name": "stderr",
     "output_type": "stream",
     "text": [
      "C:\\Users\\Kasim\\AppData\\Local\\Temp\\ipykernel_11260\\3358343595.py:3: DataConversionWarning: A column-vector y was passed when a 1d array was expected. Please change the shape of y to (n_samples,), for example using ravel().\n",
      "  print(model.fit(X_test,y_test))\n"
     ]
    },
    {
     "name": "stdout",
     "output_type": "stream",
     "text": [
      "RandomForestClassifier(criterion='entropy', random_state=0)\n"
     ]
    }
   ],
   "source": [
    "model = RandomForestClassifier(n_estimators=100 ,criterion='entropy', random_state=0 )    \n",
    "\n",
    "print(model.fit(X_test,y_test))"
   ]
  },
  {
   "cell_type": "code",
   "execution_count": 118,
   "id": "5a439faa",
   "metadata": {},
   "outputs": [],
   "source": [
    "y_predR = model.predict(X_test)"
   ]
  },
  {
   "cell_type": "code",
   "execution_count": 119,
   "id": "0da81dd4",
   "metadata": {},
   "outputs": [],
   "source": [
    "cm=confusion_matrix(y_test , y_predR)"
   ]
  },
  {
   "cell_type": "code",
   "execution_count": 120,
   "id": "e8d526b0",
   "metadata": {},
   "outputs": [
    {
     "data": {
      "text/plain": [
       "0.9896796740101949"
      ]
     },
     "execution_count": 120,
     "metadata": {},
     "output_type": "execute_result"
    }
   ],
   "source": [
    "r2_score(y_test, y_predR)"
   ]
  },
  {
   "cell_type": "code",
   "execution_count": null,
   "id": "740792fb",
   "metadata": {},
   "outputs": [],
   "source": []
  },
  {
   "cell_type": "markdown",
   "id": "1deb9c9c",
   "metadata": {},
   "source": [
    "# Third model MultiRegression"
   ]
  },
  {
   "cell_type": "code",
   "execution_count": 121,
   "id": "ce034d51",
   "metadata": {},
   "outputs": [],
   "source": [
    "from sklearn.linear_model import LinearRegression"
   ]
  },
  {
   "cell_type": "code",
   "execution_count": 122,
   "id": "b615b5d3",
   "metadata": {},
   "outputs": [],
   "source": [
    "lr=LinearRegression()"
   ]
  },
  {
   "cell_type": "code",
   "execution_count": 123,
   "id": "d5d1eb2a",
   "metadata": {},
   "outputs": [
    {
     "data": {
      "text/html": [
       "<style>#sk-container-id-7 {color: black;background-color: white;}#sk-container-id-7 pre{padding: 0;}#sk-container-id-7 div.sk-toggleable {background-color: white;}#sk-container-id-7 label.sk-toggleable__label {cursor: pointer;display: block;width: 100%;margin-bottom: 0;padding: 0.3em;box-sizing: border-box;text-align: center;}#sk-container-id-7 label.sk-toggleable__label-arrow:before {content: \"▸\";float: left;margin-right: 0.25em;color: #696969;}#sk-container-id-7 label.sk-toggleable__label-arrow:hover:before {color: black;}#sk-container-id-7 div.sk-estimator:hover label.sk-toggleable__label-arrow:before {color: black;}#sk-container-id-7 div.sk-toggleable__content {max-height: 0;max-width: 0;overflow: hidden;text-align: left;background-color: #f0f8ff;}#sk-container-id-7 div.sk-toggleable__content pre {margin: 0.2em;color: black;border-radius: 0.25em;background-color: #f0f8ff;}#sk-container-id-7 input.sk-toggleable__control:checked~div.sk-toggleable__content {max-height: 200px;max-width: 100%;overflow: auto;}#sk-container-id-7 input.sk-toggleable__control:checked~label.sk-toggleable__label-arrow:before {content: \"▾\";}#sk-container-id-7 div.sk-estimator input.sk-toggleable__control:checked~label.sk-toggleable__label {background-color: #d4ebff;}#sk-container-id-7 div.sk-label input.sk-toggleable__control:checked~label.sk-toggleable__label {background-color: #d4ebff;}#sk-container-id-7 input.sk-hidden--visually {border: 0;clip: rect(1px 1px 1px 1px);clip: rect(1px, 1px, 1px, 1px);height: 1px;margin: -1px;overflow: hidden;padding: 0;position: absolute;width: 1px;}#sk-container-id-7 div.sk-estimator {font-family: monospace;background-color: #f0f8ff;border: 1px dotted black;border-radius: 0.25em;box-sizing: border-box;margin-bottom: 0.5em;}#sk-container-id-7 div.sk-estimator:hover {background-color: #d4ebff;}#sk-container-id-7 div.sk-parallel-item::after {content: \"\";width: 100%;border-bottom: 1px solid gray;flex-grow: 1;}#sk-container-id-7 div.sk-label:hover label.sk-toggleable__label {background-color: #d4ebff;}#sk-container-id-7 div.sk-serial::before {content: \"\";position: absolute;border-left: 1px solid gray;box-sizing: border-box;top: 0;bottom: 0;left: 50%;z-index: 0;}#sk-container-id-7 div.sk-serial {display: flex;flex-direction: column;align-items: center;background-color: white;padding-right: 0.2em;padding-left: 0.2em;position: relative;}#sk-container-id-7 div.sk-item {position: relative;z-index: 1;}#sk-container-id-7 div.sk-parallel {display: flex;align-items: stretch;justify-content: center;background-color: white;position: relative;}#sk-container-id-7 div.sk-item::before, #sk-container-id-7 div.sk-parallel-item::before {content: \"\";position: absolute;border-left: 1px solid gray;box-sizing: border-box;top: 0;bottom: 0;left: 50%;z-index: -1;}#sk-container-id-7 div.sk-parallel-item {display: flex;flex-direction: column;z-index: 1;position: relative;background-color: white;}#sk-container-id-7 div.sk-parallel-item:first-child::after {align-self: flex-end;width: 50%;}#sk-container-id-7 div.sk-parallel-item:last-child::after {align-self: flex-start;width: 50%;}#sk-container-id-7 div.sk-parallel-item:only-child::after {width: 0;}#sk-container-id-7 div.sk-dashed-wrapped {border: 1px dashed gray;margin: 0 0.4em 0.5em 0.4em;box-sizing: border-box;padding-bottom: 0.4em;background-color: white;}#sk-container-id-7 div.sk-label label {font-family: monospace;font-weight: bold;display: inline-block;line-height: 1.2em;}#sk-container-id-7 div.sk-label-container {text-align: center;}#sk-container-id-7 div.sk-container {/* jupyter's `normalize.less` sets `[hidden] { display: none; }` but bootstrap.min.css set `[hidden] { display: none !important; }` so we also need the `!important` here to be able to override the default hidden behavior on the sphinx rendered scikit-learn.org. See: https://github.com/scikit-learn/scikit-learn/issues/21755 */display: inline-block !important;position: relative;}#sk-container-id-7 div.sk-text-repr-fallback {display: none;}</style><div id=\"sk-container-id-7\" class=\"sk-top-container\"><div class=\"sk-text-repr-fallback\"><pre>LinearRegression()</pre><b>In a Jupyter environment, please rerun this cell to show the HTML representation or trust the notebook. <br />On GitHub, the HTML representation is unable to render, please try loading this page with nbviewer.org.</b></div><div class=\"sk-container\" hidden><div class=\"sk-item\"><div class=\"sk-estimator sk-toggleable\"><input class=\"sk-toggleable__control sk-hidden--visually\" id=\"sk-estimator-id-7\" type=\"checkbox\" checked><label for=\"sk-estimator-id-7\" class=\"sk-toggleable__label sk-toggleable__label-arrow\">LinearRegression</label><div class=\"sk-toggleable__content\"><pre>LinearRegression()</pre></div></div></div></div></div>"
      ],
      "text/plain": [
       "LinearRegression()"
      ]
     },
     "execution_count": 123,
     "metadata": {},
     "output_type": "execute_result"
    }
   ],
   "source": [
    "lr.fit(X_train,y_train)"
   ]
  },
  {
   "cell_type": "code",
   "execution_count": 124,
   "id": "3d699ffe",
   "metadata": {},
   "outputs": [],
   "source": [
    "y_predlinear = lr.predict(X_test)\n",
    "\n"
   ]
  },
  {
   "cell_type": "code",
   "execution_count": 125,
   "id": "4665398a",
   "metadata": {},
   "outputs": [
    {
     "data": {
      "text/plain": [
       "-0.00038678787421697614"
      ]
     },
     "execution_count": 125,
     "metadata": {},
     "output_type": "execute_result"
    }
   ],
   "source": [
    "r2_score(y_test, y_predlinear)"
   ]
  },
  {
   "cell_type": "markdown",
   "id": "32636fdf",
   "metadata": {},
   "source": [
    "# Fourth  MODEL  LGBMRegressor"
   ]
  },
  {
   "cell_type": "code",
   "execution_count": 90,
   "id": "1870cb1a",
   "metadata": {},
   "outputs": [
    {
     "data": {
      "text/plain": [
       "0.7152404217108349"
      ]
     },
     "execution_count": 90,
     "metadata": {},
     "output_type": "execute_result"
    }
   ],
   "source": [
    "from lightgbm import LGBMRegressor\n",
    "model = LGBMRegressor()\n",
    "# fit the model on the whole dataset\n",
    "model.fit(X_train, y_train)\n"
   ]
  },
  {
   "cell_type": "code",
   "execution_count": 127,
   "id": "0d6b3a38",
   "metadata": {},
   "outputs": [],
   "source": [
    "ynewLGB = model.predict(X_test)\n"
   ]
  },
  {
   "cell_type": "code",
   "execution_count": 128,
   "id": "39e004ea",
   "metadata": {},
   "outputs": [
    {
     "data": {
      "text/plain": [
       "0.9896796740101949"
      ]
     },
     "execution_count": 128,
     "metadata": {},
     "output_type": "execute_result"
    }
   ],
   "source": [
    "r2_score(y_test, ynewLGB)"
   ]
  },
  {
   "cell_type": "code",
   "execution_count": null,
   "id": "8a339f49",
   "metadata": {},
   "outputs": [],
   "source": []
  }
 ],
 "metadata": {
  "kernelspec": {
   "display_name": "Python 3 (ipykernel)",
   "language": "python",
   "name": "python3"
  },
  "language_info": {
   "codemirror_mode": {
    "name": "ipython",
    "version": 3
   },
   "file_extension": ".py",
   "mimetype": "text/x-python",
   "name": "python",
   "nbconvert_exporter": "python",
   "pygments_lexer": "ipython3",
   "version": "3.10.4"
  }
 },
 "nbformat": 4,
 "nbformat_minor": 5
}
